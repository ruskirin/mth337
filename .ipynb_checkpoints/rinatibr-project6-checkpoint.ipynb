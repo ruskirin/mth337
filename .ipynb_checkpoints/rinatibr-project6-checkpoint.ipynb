{
 "cells": [
  {
   "cell_type": "markdown",
   "id": "82015377",
   "metadata": {},
   "source": [
    "<center>\n",
    "    <h2>Project 6: <em>Computing with Text</em></h2>\n",
    "    <h3>Prof. Hollister</h3>\n",
    "    <h4>by Rinat Ibragimov</h4>\n",
    "</center>"
   ]
  },
  {
   "cell_type": "markdown",
   "id": "bcc2702c",
   "metadata": {},
   "source": [
    "### Introduction"
   ]
  },
  {
   "cell_type": "code",
   "execution_count": null,
   "id": "f60ff39d",
   "metadata": {},
   "outputs": [],
   "source": []
  },
  {
   "cell_type": "markdown",
   "id": "aabd1c4e",
   "metadata": {},
   "source": [
    "### Setup"
   ]
  },
  {
   "cell_type": "code",
   "execution_count": 27,
   "id": "5e8c8f40",
   "metadata": {},
   "outputs": [],
   "source": [
    "from pathlib import Path\n",
    "from collections import Counter\n",
    "import re"
   ]
  },
  {
   "cell_type": "code",
   "execution_count": 14,
   "id": "8a04e61c",
   "metadata": {},
   "outputs": [
    {
     "name": "stdout",
     "output_type": "stream",
     "text": [
      "around_world.txt  little.txt    rinatibr-project6.ipynb\r\n",
      "gulliver.txt      republic.txt\r\n"
     ]
    }
   ],
   "source": [
    "%ls"
   ]
  },
  {
   "cell_type": "markdown",
   "id": "ba942199",
   "metadata": {},
   "source": [
    "#### NOTE: assuming text files are in same directory as project"
   ]
  },
  {
   "cell_type": "code",
   "execution_count": 16,
   "id": "79367bec",
   "metadata": {},
   "outputs": [
    {
     "data": {
      "text/plain": [
       "[PosixPath('little.txt'),\n",
       " PosixPath('gulliver.txt'),\n",
       " PosixPath('around_world.txt'),\n",
       " PosixPath('republic.txt')]"
      ]
     },
     "execution_count": 16,
     "metadata": {},
     "output_type": "execute_result"
    }
   ],
   "source": [
    "# Save names of all the text files in current directory\n",
    "book_paths = list(Path().glob('*.txt'))\n",
    "book_paths"
   ]
  },
  {
   "cell_type": "code",
   "execution_count": 24,
   "id": "ae060894",
   "metadata": {},
   "outputs": [
    {
     "name": "stdout",
     "output_type": "stream",
     "text": [
      "Total of 4 books:\n",
      " dict_keys(['little', 'gulliver', 'around_world', 'republic'])\n"
     ]
    }
   ],
   "source": [
    "books = dict()\n",
    "\n",
    "# Create dictionary of {shortened book name : book text} pairs\n",
    "for p in book_paths:\n",
    "    with open(p, 'r') as book:\n",
    "        # Path().stem gets the file name without the suffix '.XYZ'\n",
    "        books[p.stem] = book.read()\n",
    "        \n",
    "print(f'Total of {len(books)} books:\\n {books.keys()}')"
   ]
  },
  {
   "cell_type": "markdown",
   "id": "e1da6c03",
   "metadata": {},
   "source": [
    "### Analysis"
   ]
  },
  {
   "cell_type": "code",
   "execution_count": 48,
   "id": "178d7bc3",
   "metadata": {},
   "outputs": [],
   "source": [
    "split_pat = r'[^\\w\\'\\-]+'"
   ]
  },
  {
   "cell_type": "code",
   "execution_count": 49,
   "id": "8b55ed19",
   "metadata": {},
   "outputs": [],
   "source": [
    "word_frequencies = dict()"
   ]
  },
  {
   "cell_type": "code",
   "execution_count": 50,
   "id": "5c72a5d9",
   "metadata": {},
   "outputs": [
    {
     "name": "stdout",
     "output_type": "stream",
     "text": [
      "Tallying word frequencies of \"little\"\n",
      "Tallying word frequencies of \"gulliver\"\n",
      "Tallying word frequencies of \"around_world\"\n",
      "Tallying word frequencies of \"republic\"\n"
     ]
    }
   ],
   "source": [
    "for name, text in books.items():\n",
    "    print(f'Tallying word frequencies of \"{name}\"')\n",
    "    \n",
    "    # Counter dictionary which keeps a count of keys\n",
    "    frequencies = Counter()\n",
    "    \n",
    "    for word in re.split(split_pat, text):\n",
    "        word = word.lower()\n",
    "        \n",
    "        # Update the word count\n",
    "        frequencies[word]+=1\n",
    "        \n",
    "    # Save the frequency count\n",
    "    word_frequencies[name] = frequencies"
   ]
  },
  {
   "cell_type": "code",
   "execution_count": 51,
   "id": "1f17c551",
   "metadata": {},
   "outputs": [
    {
     "name": "stdout",
     "output_type": "stream",
     "text": [
      "\"little\" 20 most common words:\n",
      " [('and', 8030), ('the', 7482), ('to', 5064), ('a', 4435), ('of', 3399), ('her', 3240), ('i', 3140), ('it', 2452), ('in', 2440), ('she', 2278), ('for', 2197), ('you', 2174), ('was', 2033), ('as', 1967), ('that', 1826), ('with', 1805), ('he', 1500), ('but', 1458), ('jo', 1245), ('so', 1126)]\n",
      "\"gulliver\" 20 most common words:\n",
      " [('the', 2911), ('of', 1781), ('and', 1777), ('to', 1579), ('i', 1443), ('a', 1168), ('in', 970), ('my', 845), ('was', 654), ('that', 569), ('me', 541), ('as', 498), ('his', 486), ('with', 432), ('for', 428), ('which', 426), ('it', 417), ('by', 371), ('he', 357), ('had', 354)]\n",
      "\"around_world\" 20 most common words:\n",
      " [('the', 4708), ('and', 1902), ('of', 1811), ('to', 1671), ('a', 1322), ('in', 1053), ('was', 1004), ('he', 976), ('his', 858), ('at', 642), ('fogg', 601), ('it', 562), ('on', 528), ('with', 520), ('not', 516), ('had', 513), ('that', 511), ('which', 508), ('as', 441), ('for', 411)]\n",
      "\"republic\" 20 most common words:\n",
      " [('the', 7044), ('and', 5733), ('of', 4658), ('to', 3281), ('is', 2497), ('in', 2142), ('he', 2068), ('a', 2008), ('that', 1919), ('be', 1840), ('i', 1565), ('not', 1443), ('which', 1336), ('are', 1272), ('you', 1169), ('or', 1148), ('they', 1144), ('will', 1130), ('said', 1043), ('as', 911)]\n"
     ]
    }
   ],
   "source": [
    "for name, freqs in word_frequencies.items():\n",
    "    print(f'\"{name}\" 20 most common words:\\n {freqs.most_common(20)}')"
   ]
  },
  {
   "cell_type": "markdown",
   "id": "7510fcef",
   "metadata": {},
   "source": [
    "### Conclusion"
   ]
  },
  {
   "cell_type": "code",
   "execution_count": null,
   "id": "96dc8805",
   "metadata": {},
   "outputs": [],
   "source": []
  }
 ],
 "metadata": {
  "kernelspec": {
   "display_name": "Python 3",
   "language": "python",
   "name": "python3"
  },
  "language_info": {
   "codemirror_mode": {
    "name": "ipython",
    "version": 3
   },
   "file_extension": ".py",
   "mimetype": "text/x-python",
   "name": "python",
   "nbconvert_exporter": "python",
   "pygments_lexer": "ipython3",
   "version": "3.9.7"
  }
 },
 "nbformat": 4,
 "nbformat_minor": 5
}
