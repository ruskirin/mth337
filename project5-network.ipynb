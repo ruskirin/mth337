{
 "cells": [
  {
   "cell_type": "markdown",
   "id": "29317c53",
   "metadata": {},
   "source": [
    "<center>\n",
    "    <h2>Project 5: <em>Making Friends</em></h2><br>\n",
    "    <h3>Prof. Hollister</h3><br>\n",
    "    <h4>by Rinat Ibragimov</h4></center>"
   ]
  },
  {
   "cell_type": "markdown",
   "id": "fe70e4fd",
   "metadata": {},
   "source": [
    "### Introduction"
   ]
  },
  {
   "cell_type": "code",
   "execution_count": null,
   "id": "8b7be20d",
   "metadata": {},
   "outputs": [],
   "source": []
  },
  {
   "cell_type": "markdown",
   "id": "43ec1432",
   "metadata": {},
   "source": [
    "### Set-up"
   ]
  },
  {
   "cell_type": "code",
   "execution_count": 2,
   "id": "c2d23eba",
   "metadata": {},
   "outputs": [],
   "source": [
    "import networkx as nx\n",
    "import matplotlib.pyplot as plt\n",
    "import names\n",
    "from matplotlib.animation import FuncAnimation"
   ]
  },
  {
   "cell_type": "code",
   "execution_count": 63,
   "id": "d4567ba0",
   "metadata": {},
   "outputs": [],
   "source": [
    "class FriendNetwork():\n",
    "    def __init__(self, \n",
    "                 n_nodes: int,\n",
    "                 n_edges: int,\n",
    "                 padd: float = 0.5, \n",
    "                 prem: float = 0.25):\n",
    "        \n",
    "        self.net = nx.Graph()\n",
    "        self.padd = padd\n",
    "        self.prem = prem\n",
    "        self.people = [Node(i) for i in range(n)]\n",
    "        self.relations = set()\n",
    "#         self.relations = rand_edges if rand_edges is not None else \n",
    "        \n",
    "    def get_person(self, node_id: int = -1, name: str = None) -> Node:\n",
    "        \"\"\"\n",
    "        Get a node either by its @node_id or by its @name\n",
    "        \"\"\"\n",
    "        if isinstance(node_id, int) and (node_id >= 0):\n",
    "            for p in self.people:\n",
    "                if p.id==node_id:\n",
    "                    return p\n",
    "        \n",
    "        if name is not None:\n",
    "            for p in self.people:\n",
    "                if str(p)==name:\n",
    "                    return p\n",
    "        \n",
    "        return None\n",
    "    \n",
    "    def are_friends(self, a, b):\n",
    "        return b in self.net[a]\n",
    "    \n",
    "    def get_friends(self, a):\n",
    "        return self.net[a]\n",
    "    \n",
    "    def get_mutual_friends(self, a, b):\n",
    "        f_self = set(self.get_friends(a))\n",
    "        f_other = set(self.get_friends(b))\n",
    "        \n",
    "        return f_self.intersection(f_other)\n",
    "    \n",
    "    def form_friendship(a, b):\n",
    "        pass\n",
    "    \n",
    "    def update(self):\n",
    "        self.net.add_nodes_from(self.people)\n",
    "    \n",
    "    def display(self):\n",
    "        self.update()\n",
    "        nx.draw(self.net, node_color='y', with_labels=True)"
   ]
  },
  {
   "cell_type": "code",
   "execution_count": 59,
   "id": "31f48a24",
   "metadata": {},
   "outputs": [],
   "source": [
    "class Node():\n",
    "    def __init__(self, node_id: int, name=None):\n",
    "        self.id = node_id\n",
    "        # Specify a name or use 'names' library to generate a random last name\n",
    "        self.name = name if name is not None else names.get_last_name()\n",
    "        \n",
    "    def __str__(self):\n",
    "        return self.name\n",
    "    \n",
    "    def path_to(self, graph, other) -> list:\n",
    "        edges = 0\n",
    "        current = self.name\n",
    "        \n",
    "        while True:\n",
    "            friends = graph[current]\n",
    "        \n",
    "            for node in friends:\n",
    "                pass\n",
    "    \n",
    "    def update_relation(self, other):\n",
    "        if other in self.relations:\n",
    "            self.relations.remove(other)\n",
    "        else:\n",
    "            self.relations.append(other)"
   ]
  },
  {
   "cell_type": "code",
   "execution_count": 61,
   "id": "da48fefa",
   "metadata": {},
   "outputs": [
    {
     "data": {
      "image/png": "[encoded data removed]",
      "text/plain": [
       "<Figure size 432x288 with 1 Axes>"
      ]
     },
     "metadata": {},
     "output_type": "display_data"
    }
   ],
   "source": [
    "net = FriendNetwork(10)\n",
    "net.display()"
   ]
  },
  {
   "cell_type": "code",
   "execution_count": 62,
   "id": "427f647c",
   "metadata": {},
   "outputs": [
    {
     "name": "stdout",
     "output_type": "stream",
     "text": [
      "Roper Reyes\n"
     ]
    },
    {
     "data": {
      "text/plain": [
       "set()"
      ]
     },
     "execution_count": 62,
     "metadata": {},
     "output_type": "execute_result"
    }
   ],
   "source": [
    "a = net.get_person(0)\n",
    "b = net.get_person(1)\n",
    "\n",
    "print(str(a), str(b))\n",
    "\n",
    "net.get_mutual_friends(a, b)"
   ]
  },
  {
   "cell_type": "code",
   "execution_count": null,
   "id": "131cfd56",
   "metadata": {},
   "outputs": [],
   "source": []
  },
  {
   "cell_type": "markdown",
   "id": "5fe3dc83",
   "metadata": {},
   "source": [
    "### Analysis"
   ]
  },
  {
   "cell_type": "code",
   "execution_count": null,
   "id": "37fdbe09",
   "metadata": {},
   "outputs": [],
   "source": []
  },
  {
   "cell_type": "markdown",
   "id": "4f0991aa",
   "metadata": {},
   "source": [
    "### References"
   ]
  },
  {
   "cell_type": "markdown",
   "id": "28a74b3b",
   "metadata": {},
   "source": [
    "<ul>\n",
    "    <li>Aric A. Hagberg, Daniel A. Schult and Pieter J. Swart, “Exploring network structure, dynamics, and function using NetworkX”, in Proceedings of the 7th Python in Science Conference (SciPy2008), Gäel Varoquaux, Travis Vaught, and Jarrod Millman (Eds), (Pasadena, CA USA), pp. 11–15, Aug 2008\n",
    "    </ul>"
   ]
  },
  {
   "cell_type": "code",
   "execution_count": null,
   "id": "84ad9a13",
   "metadata": {},
   "outputs": [],
   "source": []
  }
 ],
 "metadata": {
  "kernelspec": {
   "display_name": "Python 3",
   "language": "python",
   "name": "python3"
  },
  "language_info": {
   "codemirror_mode": {
    "name": "ipython",
    "version": 3
   },
   "file_extension": ".py",
   "mimetype": "text/x-python",
   "name": "python",
   "nbconvert_exporter": "python",
   "pygments_lexer": "ipython3",
   "version": "3.9.7"
  }
 },
 "nbformat": 4,
 "nbformat_minor": 5
}
