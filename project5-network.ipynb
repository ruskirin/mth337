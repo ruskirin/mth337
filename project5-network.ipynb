{
 "cells": [
  {
   "cell_type": "markdown",
   "id": "29317c53",
   "metadata": {},
   "source": [
    "<center>\n",
    "    <h2>Project 5: <em>Making Friends</em></h2><br>\n",
    "    <h3>Prof. Hollister</h3><br>\n",
    "    <h4>by Rinat Ibragimov</h4></center>"
   ]
  },
  {
   "cell_type": "markdown",
   "id": "fe70e4fd",
   "metadata": {},
   "source": [
    "### Introduction"
   ]
  },
  {
   "cell_type": "code",
   "execution_count": null,
   "id": "8b7be20d",
   "metadata": {},
   "outputs": [],
   "source": []
  },
  {
   "cell_type": "markdown",
   "id": "43ec1432",
   "metadata": {},
   "source": [
    "### Set-up"
   ]
  },
  {
   "cell_type": "code",
   "execution_count": 10,
   "id": "c2d23eba",
   "metadata": {},
   "outputs": [],
   "source": [
    "import networkx as nx\n",
    "import numpy as np\n",
    "import matplotlib.pyplot as plt\n",
    "import names\n",
    "from matplotlib.animation import FuncAnimation"
   ]
  },
  {
   "cell_type": "code",
   "execution_count": 14,
   "id": "16b171e3",
   "metadata": {},
   "outputs": [
    {
     "data": {
      "text/plain": [
       "<Figure size 864x864 with 0 Axes>"
      ]
     },
     "metadata": {},
     "output_type": "display_data"
    }
   ],
   "source": [
    "fig = plt.figure(figsize=(12,12))"
   ]
  },
  {
   "cell_type": "code",
   "execution_count": 11,
   "id": "31f48a24",
   "metadata": {},
   "outputs": [],
   "source": [
    "class Node():\n",
    "    \n",
    "    def __init__(self, node_id: int, name=None):\n",
    "        self.id = node_id\n",
    "        # Specify a name or use 'names' library to generate a random last name\n",
    "        self.name = name if name is not None else names.get_last_name()\n",
    "        \n",
    "    def __str__(self):\n",
    "        return self.name"
   ]
  },
  {
   "cell_type": "code",
   "execution_count": 70,
   "id": "259ec9d6",
   "metadata": {},
   "outputs": [],
   "source": [
    "class FriendNetwork():\n",
    "    \n",
    "    def __init__(self, \n",
    "                 n_nodes: int,\n",
    "                 padd: float = 0.5, \n",
    "                 prem: float = 0.25):\n",
    "        \n",
    "        self.net = nx.Graph()\n",
    "        self.padd = padd\n",
    "        self.prem = prem\n",
    "        \n",
    "        self.people = set(Node(i) for i in range(n_nodes))\n",
    "        self.net.add_nodes_from(self.people)\n",
    "        \n",
    "        # set of all friendships\n",
    "        self.friendships = set()\n",
    "        # dictionary of {node-pair : number of mutual friends}; used to evaluate friendship formation\n",
    "        self.mutuals = dict()\n",
    "        # set to keep track of edges to add\n",
    "        self.add_friendships = set()\n",
    "        # set to keep track of edges to remove \n",
    "        self.rem_friendships = set()\n",
    "        \n",
    "    def get_person(self, node_id: int = -1, name: str = None) -> Node:\n",
    "        \"\"\"\n",
    "        Get a node either by its @node_id or by its @name\n",
    "        \"\"\"\n",
    "        if isinstance(node_id, int) and (node_id >= 0):\n",
    "            for p in self.people:\n",
    "                if p.id==node_id:\n",
    "                    return p\n",
    "        \n",
    "        if name is not None:\n",
    "            for p in self.people:\n",
    "                if str(p)==name:\n",
    "                    return p\n",
    "        \n",
    "        return None\n",
    "    \n",
    "    def set_friendships(self, friendships):\n",
    "        if not isinstance(friendships, set):\n",
    "            relations = set(friendships)\n",
    "            \n",
    "        self.friendships = friendships\n",
    "    \n",
    "    def are_friends(self, a, b):\n",
    "        print(str(a), str(b))\n",
    "        return b in self.net[a]\n",
    "    \n",
    "    def get_friends(self, a):\n",
    "        return self.net[a]\n",
    "    \n",
    "    def get_mutual_friends(self, a, b):\n",
    "        f_self = set(self.get_friends(a))\n",
    "        f_other = set(self.get_friends(b))\n",
    "        \n",
    "        return f_self.intersection(f_other)\n",
    "    \n",
    "    def get_all_mutual_relations(self):\n",
    "        for person in self.people:\n",
    "            for other in self.people:\n",
    "                if person is other:\n",
    "                    continue\n",
    "                    \n",
    "                mutuals = self.get_mutual_friends(person, other)\n",
    "                if len(mutuals) > 0:\n",
    "                    self.mutuals[frozenset((person, other))] = len(mutuals)\n",
    "    \n",
    "    def add_friendship(self, a, b):\n",
    "        # account for other equivalent permutation\n",
    "        if (b,a) not in self.friendships:\n",
    "            self.friendships.add((a,b))\n",
    "        \n",
    "    def rem_friendship(self, a, b):\n",
    "        self.rem_friendships.add((a,b))\n",
    "        \n",
    "        # account for both equivalent permutations\n",
    "        self.friendships.remove((a,b))\n",
    "        self.friendships.remove((b,a))\n",
    "        \n",
    "    def set_random_friendships(self, p: float = 0.3):\n",
    "        \"\"\"\n",
    "        Populate the graph with random edges with probability @p\n",
    "        NOTE: removes existing relations\n",
    "        \"\"\"\n",
    "        # clear existing relations\n",
    "        self.friendships.clear()\n",
    "        \n",
    "        for person in self.people:\n",
    "            for other in self.people:\n",
    "                # no forming relations with yourself\n",
    "                if person is other:\n",
    "                    continue\n",
    "                \n",
    "                if np.random.random() < p:\n",
    "                    self.friendships.add((person, other))\n",
    "                    \n",
    "    def evolve_relations(self):\n",
    "        \"\"\"\n",
    "        Two-step process: \n",
    "        - go through each node pair that has mutual friends and see if a friendship is formed\n",
    "        - then go through each friendship and see if it needs to be removed\n",
    "        \"\"\"\n",
    "        for people, num_mutual in self.mutuals.items():\n",
    "            p = 1 - (1 - padd)^num_mutual\n",
    "            if np.random.random() < p:\n",
    "                # *people expands the tuple into 2 separate arguments\n",
    "                self.add_friendship(*people)\n",
    "                \n",
    "        for people, num_mutual in self.mutuals.items():\n",
    "            p = 1 - (1 - padd)^num_mutual\n",
    "            if np.random.random() < p:\n",
    "                # *people expands the tuple into 2 separate arguments\n",
    "                self.add_friendship(*people)\n",
    "        \n",
    "        # relationships updated; clear\n",
    "        self.mutuals.clear()\n",
    "    \n",
    "    def update_graph(self):\n",
    "        \"\"\"\n",
    "        Update the network's edges\n",
    "        \"\"\"\n",
    "        # clear matplotlib figure\n",
    "        fig.clear()\n",
    "        # remove edges marked as lost friendships (in self.rem_friendships)\n",
    "        self.net.remove_edges_from(self.rem_friendships)\n",
    "        # network updated, clear the holder\n",
    "        self.rem_friendships.clear()\n",
    "        \n",
    "        #\n",
    "        # TODO: >>>>> SEE IF NECESSARY <<<<<<\n",
    "        #\n",
    "#         self.net.add_edges_from(self.friendships)\n",
    "    \n",
    "    def draw(self):\n",
    "        self.update_graph()\n",
    "        nx.draw(self.net, node_color='y', with_labels=True)"
   ]
  },
  {
   "cell_type": "code",
   "execution_count": 53,
   "id": "da48fefa",
   "metadata": {},
   "outputs": [
    {
     "data": {
      "image/png": "[encoded data removed]",
      "text/plain": [
       "<Figure size 432x288 with 1 Axes>"
      ]
     },
     "metadata": {},
     "output_type": "display_data"
    }
   ],
   "source": [
    "net = FriendNetwork(10, 4)\n",
    "net.set_random_friendships(0.1)\n",
    "net.draw()"
   ]
  },
  {
   "cell_type": "raw",
   "id": "4396cc5d",
   "metadata": {},
   "source": [
    "a = net.get_person(name='Davis')\n",
    "b = net.get_person(name='Bakker')\n",
    "net.are_friends(a, b)"
   ]
  },
  {
   "cell_type": "code",
   "execution_count": 50,
   "id": "6c5723ea",
   "metadata": {},
   "outputs": [
    {
     "data": {
      "image/png": "[encoded data removed]",
      "text/plain": [
       "<Figure size 432x288 with 1 Axes>"
      ]
     },
     "metadata": {},
     "output_type": "display_data"
    }
   ],
   "source": [
    "net.add_relation(a, b)\n",
    "net.draw()"
   ]
  },
  {
   "cell_type": "code",
   "execution_count": 67,
   "id": "0d2442ca",
   "metadata": {},
   "outputs": [],
   "source": [
    "x1 = frozenset((a,b))\n",
    "x2 = frozenset((b,a))"
   ]
  },
  {
   "cell_type": "code",
   "execution_count": 68,
   "id": "2ed6aafe",
   "metadata": {},
   "outputs": [
    {
     "data": {
      "text/plain": [
       "{frozenset({<__main__.Node at 0x7fe0e1cd6160>,\n",
       "            <__main__.Node at 0x7fe0e1e7d7c0>})}"
      ]
     },
     "execution_count": 68,
     "metadata": {},
     "output_type": "execute_result"
    }
   ],
   "source": [
    "z = {x1, x2}\n",
    "z"
   ]
  },
  {
   "cell_type": "code",
   "execution_count": null,
   "id": "9e1b5a98",
   "metadata": {},
   "outputs": [],
   "source": []
  },
  {
   "cell_type": "code",
   "execution_count": null,
   "id": "131cfd56",
   "metadata": {},
   "outputs": [],
   "source": []
  },
  {
   "cell_type": "code",
   "execution_count": 64,
   "id": "ab066e9a",
   "metadata": {},
   "outputs": [
    {
     "data": {
      "text/plain": [
       "2"
      ]
     },
     "execution_count": 64,
     "metadata": {},
     "output_type": "execute_result"
    }
   ],
   "source": [
    "len(z)"
   ]
  },
  {
   "cell_type": "markdown",
   "id": "5fe3dc83",
   "metadata": {},
   "source": [
    "### Analysis"
   ]
  },
  {
   "cell_type": "code",
   "execution_count": null,
   "id": "37fdbe09",
   "metadata": {},
   "outputs": [],
   "source": []
  },
  {
   "cell_type": "markdown",
   "id": "4f0991aa",
   "metadata": {},
   "source": [
    "### References"
   ]
  },
  {
   "cell_type": "markdown",
   "id": "28a74b3b",
   "metadata": {},
   "source": [
    "<ul>\n",
    "    <li>Aric A. Hagberg, Daniel A. Schult and Pieter J. Swart, “Exploring network structure, dynamics, and function using NetworkX”, in Proceedings of the 7th Python in Science Conference (SciPy2008), Gäel Varoquaux, Travis Vaught, and Jarrod Millman (Eds), (Pasadena, CA USA), pp. 11–15, Aug 2008\n",
    "    </ul>"
   ]
  },
  {
   "cell_type": "code",
   "execution_count": null,
   "id": "84ad9a13",
   "metadata": {},
   "outputs": [],
   "source": []
  }
 ],
 "metadata": {
  "kernelspec": {
   "display_name": "Python 3 (ipykernel)",
   "language": "python",
   "name": "python3"
  },
  "language_info": {
   "codemirror_mode": {
    "name": "ipython",
    "version": 3
   },
   "file_extension": ".py",
   "mimetype": "text/x-python",
   "name": "python",
   "nbconvert_exporter": "python",
   "pygments_lexer": "ipython3",
   "version": "3.8.12"
  }
 },
 "nbformat": 4,
 "nbformat_minor": 5
}
