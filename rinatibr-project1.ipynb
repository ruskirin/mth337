{
 "cells": [
  {
   "cell_type": "markdown",
   "id": "98a21ea0",
   "metadata": {},
   "source": [
    "<h1><center>Project I: <em>A particular sequence</em></center></h1>\n",
    "<h2><center>Prof. Hollister</center></h2>\n",
    "<p><center>by Rinat Ibragimov</center></p>"
   ]
  },
  {
   "cell_type": "markdown",
   "id": "7e9cb569",
   "metadata": {},
   "source": [
    "### Introduction."
   ]
  },
  {
   "cell_type": "markdown",
   "id": "cd70c6cd",
   "metadata": {},
   "source": [
    "A sequence is defined as an ordered list of numbers because any sequence can be mapped onto a subset of the set of natural numbers, giving each element in the sequence an \"order\". \n",
    "\n",
    "There are many ways to define a sequence, but the method we will utilize in this project is as an iterative function, where our sequence<br>\n",
    "\n",
    "$$\n",
    "S = [f(x_0), f(f(x_0)), f(f(f(x_0))), ...]\n",
    "$$\n",
    "\n",
    "<center>\n",
    "    <br>\n",
    "    $f$ is some function, $x_0$ is the given first element of the sequence which generates\n",
    "</center>"
   ]
  },
  {
   "cell_type": "markdown",
   "id": "49dc7e5c",
   "metadata": {},
   "source": [
    "#### Problem"
   ]
  },
  {
   "cell_type": "markdown",
   "id": "de102937",
   "metadata": {},
   "source": [
    "Let \n",
    "$$\n",
    "f(x) = \\begin{cases} \n",
    "           \\frac{x}{2}, &\\text{if $x$ is even}\\\\\n",
    "           3x+1, &\\text{if $x$ is odd}\n",
    "       \\end{cases}\n",
    "$$\n",
    "\n",
    "<br>And let our first element $a_1=k$ where $k$ is any positive integer. The sequence concludes when the last element $a_n=1$. \n",
    "\n",
    "<br><em>What patterns can we observe while analyzing this sequence?</em>"
   ]
  },
  {
   "cell_type": "markdown",
   "id": "5263d916",
   "metadata": {},
   "source": [
    "### Analysis"
   ]
  },
  {
   "cell_type": "markdown",
   "id": "f18224e4",
   "metadata": {},
   "source": [
    "#### Set-up"
   ]
  },
  {
   "cell_type": "code",
   "execution_count": 1,
   "id": "933901a8",
   "metadata": {},
   "outputs": [],
   "source": [
    "import matplotlib.pyplot as plt\n",
    "import numpy as np"
   ]
  },
  {
   "cell_type": "code",
   "execution_count": 2,
   "id": "bf7508f2",
   "metadata": {},
   "outputs": [
    {
     "data": {
      "text/plain": [
       "<matplotlib.pyplot._IoffContext at 0x7f376125b5e0>"
      ]
     },
     "execution_count": 2,
     "metadata": {},
     "output_type": "execute_result"
    }
   ],
   "source": [
    "# Display renders inline -- maintains flow of notebook\n",
    "%matplotlib inline\n",
    "# Turn off interactive mode -- had issues plotting subplots with this on\n",
    "plt.ioff()"
   ]
  },
  {
   "cell_type": "code",
   "execution_count": 3,
   "id": "76c72e5d",
   "metadata": {},
   "outputs": [],
   "source": [
    "def f(x: int) -> int:\n",
    "    \"\"\"\n",
    "    Given function\n",
    "    \n",
    "    :param x: input integer\n",
    "    :return: integer\n",
    "    \"\"\"\n",
    "    \n",
    "    # Check input is an integer\n",
    "    if not isinstance(x, int):\n",
    "        raise TypeError(f'Input must be an integer; passed {x}')\n",
    "    # Check input is greater than or equal to 1\n",
    "    if x < 1:\n",
    "        raise ValueError(f'Input must be positive; passed {x}')\n",
    "        \n",
    "    # Is input even or odd\n",
    "    even = x%2==0\n",
    "    if even:\n",
    "        return int(x/2)\n",
    "    return int(3*x+1)"
   ]
  },
  {
   "cell_type": "code",
   "execution_count": 4,
   "id": "3ec91bc2",
   "metadata": {},
   "outputs": [],
   "source": [
    "def generate_seq(x: int) -> (list, int):\n",
    "    \"\"\"\n",
    "    Iterating f() until the output is 1. The sequence is returned as a numpy array \n",
    "      because it allows us to easily examine certain characteristics of the sequence \n",
    "      like mean and max.\n",
    "    \n",
    "    :param x: input integer\n",
    "    \n",
    "    :return: a tuple of (sequence as a numpy array, steps to convergence as int)\n",
    "    \"\"\"\n",
    "    \n",
    "    # Returned sequence\n",
    "    seq = [x]\n",
    "    # Input into f()\n",
    "    nextn = x\n",
    "    # Step counter\n",
    "    step = 0\n",
    "    \n",
    "    try:\n",
    "        while True:\n",
    "            # Update input to be next num in sequence\n",
    "            nextn = f(nextn)\n",
    "            # Next number in sequence is 1 the sequence is finished; append and break loop\n",
    "            if nextn==1:\n",
    "                seq.append(1)\n",
    "                break\n",
    "            \n",
    "            seq.append(nextn)\n",
    "            step+=1\n",
    "    except (TypeError, ValueError) as e:\n",
    "        print(e.args[0])\n",
    "        return [], 0\n",
    "        \n",
    "    return np.array(seq), step"
   ]
  },
  {
   "cell_type": "markdown",
   "id": "59bb54f0",
   "metadata": {},
   "source": [
    "#### Initial Value vs Steps to Convergence "
   ]
  },
  {
   "cell_type": "markdown",
   "id": "de013258",
   "metadata": {},
   "source": [
    "Let's first examine what happens for various starting values:"
   ]
  },
  {
   "cell_type": "code",
   "execution_count": 5,
   "id": "1e6f91a1",
   "metadata": {},
   "outputs": [
    {
     "name": "stdout",
     "output_type": "stream",
     "text": [
      "Mean steps: 64.804\n"
     ]
    }
   ],
   "source": [
    "# Get an array of starting values; stepping by >1 since don't need fine-grained detail\n",
    "ivals = range(1, 1001, 2)\n",
    "\n",
    "# Get a list of sequences for each starting value\n",
    "seqs = [generate_seq(x) for x in ivals]\n",
    "\n",
    "# Get the list of corresponding steps\n",
    "steps = np.array([seq[1] for seq in seqs])\n",
    "\n",
    "# Get mean number of steps across all starting values\n",
    "mean_steps = steps.mean()\n",
    "print(f'Mean steps: {mean_steps}')"
   ]
  },
  {
   "cell_type": "code",
   "execution_count": 6,
   "id": "85f437e9",
   "metadata": {},
   "outputs": [
    {
     "data": {
      "image/png": "[encoded data removed]",
      "text/plain": [
       "<Figure size 432x288 with 1 Axes>"
      ]
     },
     "metadata": {
      "needs_background": "light"
     },
     "output_type": "display_data"
    }
   ],
   "source": [
    "# Visualizing the sequences\n",
    "\n",
    "title = 'Starting Values vs Steps to Convergence'\n",
    "xlab = 'Starting Value'\n",
    "ylab = 'Steps'\n",
    "\n",
    "plt.bar(ivals, steps)\n",
    "# Add horizontal line for the mean steps\n",
    "plt.axhline(mean_steps, color='green', label=f'Mean Steps ({mean_steps})')\n",
    "plt.legend()\n",
    "plt.title(title)\n",
    "plt.xlabel(xlab)\n",
    "plt.ylabel(ylab)\n",
    "plt.show()"
   ]
  },
  {
   "cell_type": "markdown",
   "id": "148531a8",
   "metadata": {},
   "source": [
    "No readily-identifiable pattern can be deduced from the plot -- some starting values require over 100 steps to converge, others close to 30. It does look like majority of the values are either significantly below or significantly over the mean of 64.8. Let's see if there is some pattern to the starting values that take above average steps to converge."
   ]
  },
  {
   "cell_type": "markdown",
   "id": "43c49dd5",
   "metadata": {},
   "source": [
    "#### Analyzing Outliers"
   ]
  },
  {
   "cell_type": "code",
   "execution_count": 8,
   "id": "346e4fdb",
   "metadata": {},
   "outputs": [],
   "source": [
    "# Get all sequences where steps > mean steps\n",
    "seq_gt_mean = [gt for gt in seqs if gt[1] > mean_steps]\n",
    "# Create array of (starting val, steps) tuples with only those starting values which took \n",
    "#   > mean steps to converge\n",
    "gt_mean_ival_step = [(gt[0][0], gt[1]) for gt in seq_gt_mean]"
   ]
  },
  {
   "cell_type": "code",
   "execution_count": 9,
   "id": "470b3df3",
   "metadata": {},
   "outputs": [
    {
     "data": {
      "image/png": "[encoded data removed]",
      "text/plain": [
       "<Figure size 432x288 with 1 Axes>"
      ]
     },
     "metadata": {
      "needs_background": "light"
     },
     "output_type": "display_data"
    }
   ],
   "source": [
    "# Starting values\n",
    "x = [e[0] for e in gt_mean_ival_step]\n",
    "# Corresponding steps\n",
    "y = [e[1] for e in gt_mean_ival_step]\n",
    "\n",
    "# Get scatter plot of starting values that took longer than average to converge\n",
    "plt.scatter(x, y)\n",
    "plt.title('Starting Val vs Steps')\n",
    "plt.xlabel('Starting Value')\n",
    "plt.ylabel('Steps to Converge')\n",
    "plt.show()"
   ]
  },
  {
   "cell_type": "markdown",
   "id": "5ea1ebe6",
   "metadata": {},
   "source": [
    "The above distribution almost looks like a phase diagram for a differential function. We can see that the starting values that take 120-150 steps to converge are a lot more often consecutive numbers (at least consecutive amongst outliers). This begs the question, how does the ratio between steps and starting values look for increasing starting values?"
   ]
  },
  {
   "cell_type": "markdown",
   "id": "455d9341",
   "metadata": {},
   "source": [
    "#### Ratio Of Steps / Initial Values vs Consecutive Init Vals"
   ]
  },
  {
   "cell_type": "code",
   "execution_count": 10,
   "id": "49a41b14",
   "metadata": {},
   "outputs": [],
   "source": [
    "# Ratio of initial val to steps to convergence\n",
    "ratio = np.divide(ivals, steps)"
   ]
  },
  {
   "cell_type": "code",
   "execution_count": 14,
   "id": "91dd2bfe",
   "metadata": {},
   "outputs": [
    {
     "data": {
      "image/png": "[encoded data removed]",
      "text/plain": [
       "<Figure size 432x288 with 1 Axes>"
      ]
     },
     "metadata": {
      "needs_background": "light"
     },
     "output_type": "display_data"
    }
   ],
   "source": [
    "# Plotting the ratio of starting vals / steps vs consecutive starting values\n",
    "plt.scatter(ivals, ratio)\n",
    "\n",
    "plt.title('(Starting Value / Steps) vs Starting Value')\n",
    "plt.xlabel('Init Vals')\n",
    "plt.ylabel('Starting Value / Steps')\n",
    "plt.show()"
   ]
  },
  {
   "cell_type": "markdown",
   "id": "10b0d89b",
   "metadata": {},
   "source": [
    "From this we see that overall as the starting values increase, the steps it takes for them to converge increases as well."
   ]
  },
  {
   "cell_type": "markdown",
   "id": "2ac782f5",
   "metadata": {},
   "source": [
    "### Conclusion"
   ]
  },
  {
   "cell_type": "markdown",
   "id": "223ba1bb",
   "metadata": {},
   "source": [
    "The behavior of the given sequence is, as was discovered, not at all random. Generally, as the starting values increase, the steps to converge increase as well. The step distribution seems to be characteristically exponential.\n",
    "\n",
    "The project can be continued further and many questions/patterns can still be discovered and answered."
   ]
  },
  {
   "cell_type": "markdown",
   "id": "ca3a26db",
   "metadata": {},
   "source": [
    "### References"
   ]
  },
  {
   "cell_type": "markdown",
   "id": "ed152edd",
   "metadata": {},
   "source": [
    "<ul>\n",
    "    <li>Assignment source: https://rahollis.github.io/Projects/part_sequence/part_sequence.html</li>\n",
    "    <li>NumPy docs: https://numpy.org/doc/stable/index.html</li>\n",
    "    <li>Matplotlib docs: https://matplotlib.org/3.5.1/index.html</li>\n",
    "    <li>Using LaTeX in matplotlib: https://matplotlib.org/stable/gallery/text_labels_and_annotations/tex_demo.html</li>\n",
    "</ul>"
   ]
  },
  {
   "cell_type": "code",
   "execution_count": null,
   "id": "f9c34c0f",
   "metadata": {},
   "outputs": [],
   "source": []
  }
 ],
 "metadata": {
  "kernelspec": {
   "display_name": "Python 3",
   "language": "python",
   "name": "python3"
  },
  "language_info": {
   "codemirror_mode": {
    "name": "ipython",
    "version": 3
   },
   "file_extension": ".py",
   "mimetype": "text/x-python",
   "name": "python",
   "nbconvert_exporter": "python",
   "pygments_lexer": "ipython3",
   "version": "3.9.7"
  }
 },
 "nbformat": 4,
 "nbformat_minor": 5
}
