{
 "cells": [
  {
   "cell_type": "markdown",
   "id": "82015377",
   "metadata": {},
   "source": [
    "<center>\n",
    "    <h2>Project 6: <em>Computing with Text</em></h2>\n",
    "    <h3>Prof. Hollister</h3>\n",
    "    <h4>by Rinat Ibragimov</h4>\n",
    "</center>"
   ]
  },
  {
   "cell_type": "markdown",
   "id": "6ede9732",
   "metadata": {},
   "source": [
    "### Outline"
   ]
  },
  {
   "cell_type": "markdown",
   "id": "85c65e09",
   "metadata": {},
   "source": [
    "Process will involve downloading the text files, reading them into memory (probably by chunk), then either using an existing library (eg. pandas) or doing the work manually, count frequencies of words for each text file. The words frequencies will then be compared against the \"global\" total across all texts.\n",
    "\n",
    "<ol>\n",
    "    <li>download files</li>\n",
    "    <li>read files into memory</li>\n",
    "    <li>find library or write up code for word counting</li>\n",
    "    <li>count word frequencies and keep a global tally</li>\n",
    "    <li>compare individual text file frequencies to the global</li>\n",
    "</ol>"
   ]
  },
  {
   "cell_type": "markdown",
   "id": "92f59c0d",
   "metadata": {},
   "source": [
    "### Introduction"
   ]
  },
  {
   "cell_type": "code",
   "execution_count": null,
   "id": "bf2e2103",
   "metadata": {},
   "outputs": [],
   "source": []
  },
  {
   "cell_type": "markdown",
   "id": "aa66a6fe",
   "metadata": {},
   "source": [
    "### Setup"
   ]
  },
  {
   "cell_type": "code",
   "execution_count": 1,
   "id": "bf49e0ae",
   "metadata": {},
   "outputs": [],
   "source": [
    "from pathlib import Path"
   ]
  },
  {
   "cell_type": "code",
   "execution_count": 2,
   "id": "52305637",
   "metadata": {},
   "outputs": [
    {
     "name": "stdout",
     "output_type": "stream",
     "text": [
      "project5-network.ipynb                  rinatibr-project3-mayfly-model.ipynb\r\n",
      "rinatibr-project1.ipynb                 rinatibr-project6.ipynb\r\n",
      "rinatibr-project2-funny-function.ipynb\r\n"
     ]
    }
   ],
   "source": []
  },
  {
   "cell_type": "code",
   "execution_count": null,
   "id": "7f267aa9",
   "metadata": {},
   "outputs": [],
   "source": [
    "book_path = Path()"
   ]
  },
  {
   "cell_type": "markdown",
   "id": "56c4de51",
   "metadata": {},
   "source": [
    "### Analysis"
   ]
  },
  {
   "cell_type": "code",
   "execution_count": null,
   "id": "0ae348f0",
   "metadata": {},
   "outputs": [],
   "source": []
  },
  {
   "cell_type": "markdown",
   "id": "15355193",
   "metadata": {},
   "source": [
    "### Conclusion"
   ]
  },
  {
   "cell_type": "code",
   "execution_count": null,
   "id": "7bd291c1",
   "metadata": {},
   "outputs": [],
   "source": []
  }
 ],
 "metadata": {
  "kernelspec": {
   "display_name": "Python 3",
   "language": "python",
   "name": "python3"
  },
  "language_info": {
   "codemirror_mode": {
    "name": "ipython",
    "version": 3
   },
   "file_extension": ".py",
   "mimetype": "text/x-python",
   "name": "python",
   "nbconvert_exporter": "python",
   "pygments_lexer": "ipython3",
   "version": "3.9.7"
  }
 },
 "nbformat": 4,
 "nbformat_minor": 5
}
