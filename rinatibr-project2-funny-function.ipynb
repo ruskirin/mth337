{
 "cells": [
  {
   "cell_type": "markdown",
   "id": "0243be02",
   "metadata": {},
   "source": [
    "<center>\n",
    "    <h2>Project II: <em>A Funny Function</em></h2>\n",
    "    <h3>Prof. Hollister</h3>\n",
    "    <h4>by Rinat Ibragimov</h4>\n",
    "</center>"
   ]
  },
  {
   "cell_type": "markdown",
   "id": "b29a4e48",
   "metadata": {},
   "source": [
    "## OUTLINE:"
   ]
  },
  {
   "cell_type": "markdown",
   "id": "7c2efe72",
   "metadata": {},
   "source": [
    "Will analyze the <code>get_gcd()</code> and <code>euler_totient()</code> functions below. They have already been commented and manually tested a bit. Some things I would like to do:"
   ]
  },
  {
   "cell_type": "markdown",
   "id": "0496f309",
   "metadata": {},
   "source": [
    "<ol>\n",
    "    <li>visually examine the scatter plot for large N</li>\n",
    "    <li>from the scatter plot with the small input, noticed pattern striations; would like to partition inputs based on linear outputs (counts)</li>\n",
    "    <li>review the related properties of integers and primes to aid in understanding</li>\n",
    "    <li>see if any predictions can be made</li>\n",
    "</ol>"
   ]
  },
  {
   "cell_type": "markdown",
   "id": "29043bee",
   "metadata": {},
   "source": [
    "### Introduction"
   ]
  },
  {
   "cell_type": "markdown",
   "id": "7a31765e",
   "metadata": {},
   "source": []
  },
  {
   "cell_type": "markdown",
   "id": "3488cbdc",
   "metadata": {},
   "source": [
    "### Set-Up"
   ]
  },
  {
   "cell_type": "code",
   "execution_count": 1,
   "id": "af9c993b",
   "metadata": {},
   "outputs": [],
   "source": [
    "import matplotlib.pyplot as plt\n",
    "import numpy as np"
   ]
  },
  {
   "cell_type": "code",
   "execution_count": 2,
   "id": "db0be84b",
   "metadata": {},
   "outputs": [
    {
     "data": {
      "text/plain": [
       "<matplotlib.pyplot._IoffContext at 0x7ff0e73ac220>"
      ]
     },
     "execution_count": 2,
     "metadata": {},
     "output_type": "execute_result"
    }
   ],
   "source": [
    "%matplotlib inline\n",
    "plt.ioff()"
   ]
  },
  {
   "cell_type": "code",
   "execution_count": 3,
   "id": "13171fc3",
   "metadata": {},
   "outputs": [],
   "source": [
    "\"\"\"\n",
    "A recursive function which returns the greatest common divisor between 2 integers.\n",
    "  Since a quotient is formed, @a must be >= @b to yield an integer remainder (or 0)\n",
    "\n",
    ":param a: integer dividend\n",
    ":param b: integer divisor\n",
    "\n",
    ":return: integer greatest common divisor \n",
    "\"\"\"\n",
    "def get_gcd(a: int, b: int) -> int:\n",
    "    # Check that inputs are integers\n",
    "    if not (isinstance(a, int) and isinstance(b, int)):\n",
    "        raise TypeError(f'Inputs must be integers! Inputs: ({a}, {b})')\n",
    "    # Check that a >= b\n",
    "    if a < b:\n",
    "        raise ValueError(f'Dividend must be >= divisor! Dividend: {a}, divisor: {b}')\n",
    "        \n",
    "    # Get the remainder\n",
    "    rem = a%b\n",
    "    \n",
    "    # If remainder is 0, then dividend and divisor are the same -- return the last divisor\n",
    "    if rem==0:\n",
    "        return b\n",
    "    \n",
    "    # (Recursive step) call the function again with updated dividend and divisor\n",
    "    return get_gcd(b, rem)"
   ]
  },
  {
   "cell_type": "code",
   "execution_count": 4,
   "id": "c3726b36",
   "metadata": {},
   "outputs": [],
   "source": [
    "\"\"\"\n",
    "The Euler Totient function, which returns the number of relatively prime numbers for an \n",
    "  integer input N in the set [0, N]\n",
    "  \n",
    ":param n: integer against which to test for relative \"primeness\"\n",
    "\n",
    ":return: tuple (count: amount of numbers relatively prime, \n",
    "                rel_prime: list of relatively prime integers)\n",
    "\"\"\"\n",
    "def euler_totient(n: int) -> (int, list):\n",
    "    rel_prime = []\n",
    "    count = 0\n",
    "    \n",
    "    # Skipping 1\n",
    "    if n==1:\n",
    "        return 0, rel_prime\n",
    "    \n",
    "    for i in range(1, n+1):\n",
    "        gcd = get_gcd(n, i)\n",
    "        \n",
    "        # If the GCD is 1, the numbers are relatively prime; append to list and increment\n",
    "        #   count by 1\n",
    "        if gcd == 1:\n",
    "            rel_prime.append(i)\n",
    "            count+=1\n",
    "    \n",
    "    return count, rel_prime"
   ]
  },
  {
   "cell_type": "markdown",
   "id": "4d04fee1",
   "metadata": {},
   "source": [
    "### Analysis"
   ]
  },
  {
   "cell_type": "code",
   "execution_count": 5,
   "id": "4c101d27",
   "metadata": {},
   "outputs": [],
   "source": [
    "inputs = list(range(1, 21))\n",
    "counts = [f'{i} -> {euler_totient(i)[0]}' for i in inputs]"
   ]
  },
  {
   "cell_type": "code",
   "execution_count": 6,
   "id": "38368230",
   "metadata": {},
   "outputs": [
    {
     "name": "stdout",
     "output_type": "stream",
     "text": [
      "['1 -> 0', '2 -> 1', '3 -> 2', '4 -> 2', '5 -> 4', '6 -> 2', '7 -> 6', '8 -> 4', '9 -> 6', '10 -> 4', '11 -> 10', '12 -> 4', '13 -> 12', '14 -> 6', '15 -> 8', '16 -> 8', '17 -> 16', '18 -> 6', '19 -> 18', '20 -> 8']\n"
     ]
    }
   ],
   "source": [
    "print(counts)"
   ]
  },
  {
   "cell_type": "code",
   "execution_count": 7,
   "id": "e3e772f0",
   "metadata": {},
   "outputs": [],
   "source": [
    "N = 10000\n",
    "inputs = list(range(1, N+1))"
   ]
  },
  {
   "cell_type": "code",
   "execution_count": 8,
   "id": "076f9d68",
   "metadata": {},
   "outputs": [],
   "source": [
    "totient = [euler_totient(i)[0] for i in inputs]"
   ]
  },
  {
   "cell_type": "code",
   "execution_count": 9,
   "id": "fdf43b4c",
   "metadata": {},
   "outputs": [
    {
     "data": {
      "image/png": "[encoded data removed]",
      "text/plain": [
       "<Figure size 432x288 with 1 Axes>"
      ]
     },
     "metadata": {
      "needs_background": "light"
     },
     "output_type": "display_data"
    }
   ],
   "source": [
    "plt.scatter(inputs[:100], totient[:100])\n",
    "plt.show()"
   ]
  },
  {
   "cell_type": "code",
   "execution_count": 10,
   "id": "a45f1a85",
   "metadata": {},
   "outputs": [
    {
     "name": "stderr",
     "output_type": "stream",
     "text": [
      "<ipython-input-10-39f79e59ef5c>:1: RuntimeWarning: divide by zero encountered in true_divide\n",
      "  ratios = np.divide(inputs, totient)[1:]\n"
     ]
    },
    {
     "data": {
      "image/png": "[encoded data removed]",
      "text/plain": [
       "<Figure size 432x288 with 1 Axes>"
      ]
     },
     "metadata": {
      "needs_background": "light"
     },
     "output_type": "display_data"
    }
   ],
   "source": [
    "ratios = np.divide(inputs, totient)[1:]\n",
    "\n",
    "plt.scatter(inputs[1:200], ratios[1:200])\n",
    "plt.hlines([1, 2, 3, 4], 0, 200, colors='r', linestyles='dashed')\n",
    "plt.show()"
   ]
  },
  {
   "cell_type": "code",
   "execution_count": 18,
   "id": "6c4510ba",
   "metadata": {},
   "outputs": [],
   "source": [
    "counts = np.unique(ratios, return_index=True, return_inverse=False, return_counts=True)"
   ]
  },
  {
   "cell_type": "code",
   "execution_count": 23,
   "id": "22106246",
   "metadata": {},
   "outputs": [
    {
     "data": {
      "text/plain": [
       "(array([1.00010028, 1.00010034, 1.00010052, ..., 4.6484375 , 4.73958333,\n",
       "        4.8125    ]),\n",
       " array([9971, 9965, 9947, ..., 3568, 2728, 2308]),\n",
       " array([1, 1, 1, ..., 2, 3, 4]))"
      ]
     },
     "execution_count": 23,
     "metadata": {},
     "output_type": "execute_result"
    }
   ],
   "source": [
    "counts[:10]"
   ]
  },
  {
   "cell_type": "code",
   "execution_count": 25,
   "id": "ab1993a7",
   "metadata": {},
   "outputs": [
    {
     "data": {
      "image/png": "[encoded data removed]",
      "text/plain": [
       "<Figure size 432x288 with 1 Axes>"
      ]
     },
     "metadata": {
      "needs_background": "light"
     },
     "output_type": "display_data"
    }
   ],
   "source": [
    "plt.bar(counts[0], counts[2])\n",
    "plt.title('Ratio Counts')\n",
    "# plt.xlabel(r'Ratio $\\frac{\\text{integer N}}{\\text{amount of numbers} \\in [1, N]}$')\n",
    "plt.show()"
   ]
  },
  {
   "cell_type": "markdown",
   "id": "52ee90dd",
   "metadata": {},
   "source": [
    "## TODO:\n",
    "<ul>\n",
    "    <li>Get max and min by frequency</li>\n",
    "    <li>Get count percentages by ratio</li>\n",
    "    <li>Partition by ratios then look for patterns</li>\n",
    "</ul>"
   ]
  },
  {
   "cell_type": "markdown",
   "id": "ccf25be4",
   "metadata": {},
   "source": [
    "#### Partitioning by Ratio"
   ]
  },
  {
   "cell_type": "code",
   "execution_count": null,
   "id": "a3c67dfc",
   "metadata": {},
   "outputs": [],
   "source": []
  },
  {
   "cell_type": "code",
   "execution_count": null,
   "id": "bc8bd1be",
   "metadata": {},
   "outputs": [],
   "source": []
  },
  {
   "cell_type": "code",
   "execution_count": null,
   "id": "1ea2869a",
   "metadata": {},
   "outputs": [],
   "source": []
  },
  {
   "cell_type": "markdown",
   "id": "2fd4ac6b",
   "metadata": {},
   "source": [
    "### Conclusion"
   ]
  },
  {
   "cell_type": "markdown",
   "id": "00eca028",
   "metadata": {},
   "source": []
  },
  {
   "cell_type": "markdown",
   "id": "0e7bcd6a",
   "metadata": {},
   "source": [
    "### References"
   ]
  },
  {
   "cell_type": "markdown",
   "id": "bb987eab",
   "metadata": {},
   "source": [
    "<ol>\n",
    "    <li></li>\n",
    "    <li></li>\n",
    "    <li></li>\n",
    "</ol>"
   ]
  }
 ],
 "metadata": {
  "kernelspec": {
   "display_name": "Python 3",
   "language": "python",
   "name": "python3"
  },
  "language_info": {
   "codemirror_mode": {
    "name": "ipython",
    "version": 3
   },
   "file_extension": ".py",
   "mimetype": "text/x-python",
   "name": "python",
   "nbconvert_exporter": "python",
   "pygments_lexer": "ipython3",
   "version": "3.9.7"
  }
 },
 "nbformat": 4,
 "nbformat_minor": 5
}
